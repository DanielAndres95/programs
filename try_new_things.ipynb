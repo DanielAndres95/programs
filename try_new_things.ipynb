{
 "cells": [
  {
   "cell_type": "code",
   "execution_count": 1,
   "metadata": {},
   "outputs": [],
   "source": [
    "#include \"general_headers.h\""
   ]
  },
  {
   "cell_type": "code",
   "execution_count": 2,
   "metadata": {},
   "outputs": [],
   "source": [
    "int NContour = 6;\n",
    "int EventToDisplay= 6;\n",
    "\n",
    "// global.h\n",
    "const int NumberOfChannels=1280;\n",
    "const int NumberOfChannelsView0=320;\n",
    "const int NumberOfChannelsView1=960;\n",
    "const int NumberOfTicks=1667;\n",
    "const int ADCRange=4096;\n",
    "const int NMaxNumberOfTicksInAllChannels = NumberOfChannels*NumberOfTicks;\n",
    "\n",
    "const int NMaxHitsPerEvent=100000;\n",
    "const int NMaxClustersPerEvent=10000;\n",
    "const int NMaxTracksPerEvent=1000;\n",
    "const int NViews=2;\n",
    "const int NMaxTracksPerEventTimesNViews=NMaxTracksPerEvent*NViews;\n",
    "\n",
    "int NChannelView0=320;\n",
    "int NChannelView1=960;\n",
    "\n",
    "double driftvelocity=0.16*1000;  //cm/mus\n",
    "\n",
    "double ADC2CHARGE = 67.; //to be confirmed\n",
    "double ADC2CHARGEView0 = 67.; //to be confirmed\n",
    "double ADC2CHARGEView1 = 67.; //to be confirmed\n",
    "\n",
    "//Track selection cuts\n",
    "int TrackXUpperCut=48; //cm\n",
    "int TrackXLowerCut=-48; //cm\n",
    "int TrackZLowerCut=52; //cm\n",
    "int TrackZUpperCut=248; //cm\n",
    "\n",
    "int dQdsBins = 100;\n",
    "\n",
    "int dQdsRange=5000/ADC2CHARGE;"
   ]
  },
  {
   "cell_type": "code",
   "execution_count": 3,
   "metadata": {},
   "outputs": [],
   "source": [
    "// Read the FILE\n",
    "TFile *rFile = new TFile(\"/Users/dan/CIEMAT/ROOT/ROOT_try/0-RecoFull-Parser.root\", \"READ\");\n",
    "    TTree *rTree = (TTree*)rFile->Get(\"analysistree/anatree\"); //should always be the same\n",
    "    int NEntries = (int)rTree->GetEntries();\n",
    "    "
   ]
  },
  {
   "cell_type": "code",
   "execution_count": 4,
   "metadata": {},
   "outputs": [],
   "source": [
    "// address.h\n",
    "int tRun;\n",
    "int tSubrun;\n",
    "int tEventNumberInRun;\n",
    "int tEventTimeSeconds;\n",
    "int tEventTimeNanoseconds;\n",
    "char tIsData;\n",
    "\n",
    "//Reco waveforms\n",
    "int tRecoWaveform_NumberOfChannels;\n",
    "int tRecoWaveform_NumberOfTicksInAllChannels;\n",
    "int tRecoWaveform_Channel[NumberOfChannels];\n",
    "int tRecoWaveform_NTicks[NumberOfChannels];\n",
    "int tRecoWaveform_Tick[NMaxNumberOfTicksInAllChannels];\n",
    "float tRecoWaveform_ADC[NMaxNumberOfTicksInAllChannels];\n",
    "\n",
    "//Hit parameters\n",
    "int tNumberOfHits;\n",
    "float tHit_ChargeIntegral[NMaxHitsPerEvent];\n",
    "short tHit_TrackID[NMaxHitsPerEvent];\n",
    "short tHit_View[NMaxHitsPerEvent];\n",
    "\n",
    "//Cluster parameters\n",
    "short tNumberOfClusters;\n",
    "short tCluster_NumberOfHits[NMaxClustersPerEvent];\n",
    "\n",
    "//Track parameters\n",
    "short tNumberOfTracks;\n",
    "\n",
    "short tTrackID[NMaxTracksPerEvent];\n",
    "short tTrack_NumberOfHits[NMaxTracksPerEvent];\n",
    "float tTrack_Length_StraightLine[NMaxTracksPerEvent];\n",
    "float tTrack_StartPoint_X[NMaxHitsPerEvent];\n",
    "float tTrack_StartPoint_Y[NMaxHitsPerEvent];\n",
    "float tTrack_StartPoint_Z[NMaxHitsPerEvent];\n",
    "float tTrack_StartPoint_DistanceToBoundary[NMaxHitsPerEvent];\n",
    "float tTrack_EndPoint_X[NMaxHitsPerEvent];\n",
    "float tTrack_EndPoint_Y[NMaxHitsPerEvent];\n",
    "float tTrack_EndPoint_Z[NMaxHitsPerEvent];\n",
    "float tTrack_EndPoint_DistanceToBoundary[NMaxHitsPerEvent];\n",
    "float tTrack_StartDirection_Theta[NMaxTracksPerEvent];\n",
    "float tTrack_StartDirection_Phi[NMaxTracksPerEvent];\n",
    "float tTrack_StartDirection_X[NMaxTracksPerEvent];\n",
    "float tTrack_StartDirection_Y[NMaxTracksPerEvent];\n",
    "float tTrack_StartDirection_Z[NMaxTracksPerEvent];\n",
    "float tTrack_EndDirection_Theta[NMaxTracksPerEvent];\n",
    "float tTrack_EndDirection_Phi[NMaxTracksPerEvent];\n",
    "float tTrack_EndDirection_X[NMaxTracksPerEvent];\n",
    "float tTrack_EndDirection_Y[NMaxTracksPerEvent];\n",
    "float tTrack_EndDirection_Z[NMaxTracksPerEvent];\n",
    "\n",
    "float tTrack_PitchInViews[NMaxTracksPerEventTimesNViews];\n",
    "short tTrack_NumberOfHitsPerView[NMaxTracksPerEventTimesNViews];\n",
    "\n",
    "float tTrack_Hit_X[NMaxHitsPerEvent];\n",
    "float tTrack_Hit_Y[NMaxHitsPerEvent];\n",
    "float tTrack_Hit_Z[NMaxHitsPerEvent];\n",
    "float tTrack_Hit_ds_LocalTrackDirection[NMaxHitsPerEvent];\n",
    "float tTrack_Hit_ds_3DPosition[NMaxHitsPerEvent];\n",
    "short tTrack_Hit_View[NMaxHitsPerEvent];\n",
    "float tTrack_Hit_ChargeSummedADC[NMaxHitsPerEvent];\n",
    "float tTrack_Hit_ChargeIntegral[NMaxHitsPerEvent];\n",
    "\n",
    "//Link branches in the ROOT file with parameters\n",
    "//Metadata\n",
    "rTree->SetBranchAddress(\"Run\",&tRun);\n",
    "rTree->SetBranchAddress(\"Subrun\",&tSubrun);\n",
    "rTree->SetBranchAddress(\"EventNumberInRun\",&tEventNumberInRun);\n",
    "rTree->SetBranchAddress(\"EventTimeSeconds\",&tEventTimeSeconds);\n",
    "rTree->SetBranchAddress(\"EventTimeNanoseconds\",&tEventTimeNanoseconds);\n",
    "rTree->SetBranchAddress(\"IsData\",&tIsData);\n",
    "\n",
    "//Reco waveforms\n",
    "rTree->SetBranchAddress(\"RecoWaveforms_NumberOfChannels\",&tRecoWaveform_NumberOfChannels);\n",
    "rTree->SetBranchAddress(\"RecoWaveform_NumberOfTicksInAllChannels\",&tRecoWaveform_NumberOfTicksInAllChannels);\n",
    "rTree->SetBranchAddress(\"RecoWaveform_Channel\",&tRecoWaveform_Channel);\n",
    "rTree->SetBranchAddress(\"RecoWaveform_NTicks\",&tRecoWaveform_NTicks);\n",
    "rTree->SetBranchAddress(\"RecoWaveform_Tick\",&tRecoWaveform_Tick);\n",
    "rTree->SetBranchAddress(\"RecoWaveform_ADC\",&tRecoWaveform_ADC);\n",
    "\n",
    "//Hit parameters\n",
    "rTree->SetBranchAddress(\"NumberOfHits\",&tNumberOfHits);\n",
    "rTree->SetBranchAddress(\"Hit_ChargeIntegral\",&tHit_ChargeIntegral);\n",
    "rTree->SetBranchAddress(\"Hit_TrackID\",&tHit_TrackID);\n",
    "rTree->SetBranchAddress(\"Hit_View\",&tHit_View);\n",
    "rTree->SetBranchAddress(\"Hit_TrackID\",&tHit_TrackID);\n",
    "\n",
    "//Cluster parameters\n",
    "rTree->SetBranchAddress(\"NumberOfClusters\",&tNumberOfClusters);\n",
    "rTree->SetBranchAddress(\"Cluster_NumberOfHits\",&tCluster_NumberOfHits);\n",
    "\n",
    "//Track parameters\n",
    "rTree->SetBranchAddress(\"NumberOfTracks\",&tNumberOfTracks);\n",
    "rTree->SetBranchAddress(\"TrackID\",&tTrackID);\n",
    "rTree->SetBranchAddress(\"Track_NumberOfHits\",&tTrack_NumberOfHits);\n",
    "rTree->SetBranchAddress(\"Track_Length_StraightLine\",&tTrack_Length_StraightLine);\n",
    "\n",
    "rTree->SetBranchAddress(\"Track_StartPoint_X\",&tTrack_StartPoint_X);\n",
    "rTree->SetBranchAddress(\"Track_StartPoint_Y\",&tTrack_StartPoint_Y);\n",
    "rTree->SetBranchAddress(\"Track_StartPoint_Z\",&tTrack_StartPoint_Z);\n",
    "rTree->SetBranchAddress(\"Track_StartPoint_DistanceToBoundary\",&tTrack_StartPoint_DistanceToBoundary);\n",
    "rTree->SetBranchAddress(\"Track_EndPoint_X\",&tTrack_EndPoint_X);\n",
    "rTree->SetBranchAddress(\"Track_EndPoint_Y\",&tTrack_EndPoint_Y);\n",
    "rTree->SetBranchAddress(\"Track_EndPoint_Z\",&tTrack_EndPoint_Z);\n",
    "rTree->SetBranchAddress(\"Track_EndPoint_DistanceToBoundary\",&tTrack_EndPoint_DistanceToBoundary);\n",
    "\n",
    "rTree->SetBranchAddress(\"Track_StartDirection_Theta\",&tTrack_StartDirection_Theta);\n",
    "rTree->SetBranchAddress(\"Track_StartDirection_Phi\",&tTrack_StartDirection_Phi);\n",
    "rTree->SetBranchAddress(\"Track_StartDirection_X\",&tTrack_StartDirection_X);\n",
    "rTree->SetBranchAddress(\"Track_StartDirection_Y\",&tTrack_StartDirection_Y);\n",
    "rTree->SetBranchAddress(\"Track_StartDirection_Z\",&tTrack_StartDirection_Z);\n",
    "rTree->SetBranchAddress(\"Track_EndDirection_Theta\",&tTrack_EndDirection_Theta);\n",
    "rTree->SetBranchAddress(\"Track_EndDirection_Phi\",&tTrack_EndDirection_Phi);\n",
    "rTree->SetBranchAddress(\"Track_EndDirection_X\",&tTrack_EndDirection_X);\n",
    "rTree->SetBranchAddress(\"Track_EndDirection_Y\",&tTrack_EndDirection_Y);\n",
    "rTree->SetBranchAddress(\"Track_EndDirection_Z\",&tTrack_EndDirection_Z);\n",
    "\n",
    "\n",
    "rTree->SetBranchAddress(\"Track_PitchInViews\",&tTrack_PitchInViews);\n",
    "rTree->SetBranchAddress(\"Track_NumberOfHitsPerView\",&tTrack_NumberOfHitsPerView);\n",
    "\n",
    "rTree->SetBranchAddress(\"Track_Hit_X\",&tTrack_Hit_X);\n",
    "rTree->SetBranchAddress(\"Track_Hit_Y\",&tTrack_Hit_Y);\n",
    "rTree->SetBranchAddress(\"Track_Hit_Z\",&tTrack_Hit_Z);\n",
    "rTree->SetBranchAddress(\"Track_Hit_ds_LocalTrackDirection\",&tTrack_Hit_ds_LocalTrackDirection);\n",
    "rTree->SetBranchAddress(\"Track_Hit_ds_3DPosition\",&tTrack_Hit_ds_3DPosition);\n",
    "rTree->SetBranchAddress(\"Track_Hit_View\",&tTrack_Hit_View);\n",
    "rTree->SetBranchAddress(\"Track_Hit_ChargeSummedADC\",&tTrack_Hit_ChargeSummedADC);\n",
    "rTree->SetBranchAddress(\"Track_Hit_ChargeIntegral\",&tTrack_Hit_ChargeIntegral);\n"
   ]
  },
  {
   "cell_type": "code",
   "execution_count": 5,
   "metadata": {},
   "outputs": [],
   "source": [
    "/////////// the new tree//////////\n",
    "    \n",
    "///variables for the new tree/// We use the global.h\n",
    "int NChannel = NumberOfChannels;\n",
    "int NTicks = NMaxNumberOfTicksInAllChannels;\n",
    "\n"
   ]
  },
  {
   "cell_type": "code",
   "execution_count": 6,
   "metadata": {},
   "outputs": [
    {
     "name": "stdout",
     "output_type": "stream",
     "text": [
      "(int) 2133760\n"
     ]
    }
   ],
   "source": [
    "NTicks"
   ]
  },
  {
   "cell_type": "code",
   "execution_count": 7,
   "metadata": {},
   "outputs": [
    {
     "name": "stdout",
     "output_type": "stream",
     "text": [
      "(int) 16701987\n"
     ]
    }
   ],
   "source": [
    "rTree->GetEntry(6)"
   ]
  },
  {
   "cell_type": "code",
   "execution_count": 8,
   "metadata": {},
   "outputs": [
    {
     "name": "stdout",
     "output_type": "stream",
     "text": [
      "(unsigned long) 2133760\n"
     ]
    }
   ],
   "source": [
    "sizeof(tRecoWaveform_ADC)/sizeof(tRecoWaveform_ADC[0])"
   ]
  },
  {
   "cell_type": "code",
   "execution_count": 9,
   "metadata": {},
   "outputs": [
    {
     "name": "stdout",
     "output_type": "stream",
     "text": [
      "(int) 2133760\n"
     ]
    }
   ],
   "source": [
    "NTicks"
   ]
  },
  {
   "cell_type": "code",
   "execution_count": 10,
   "metadata": {},
   "outputs": [],
   "source": [
    "TFile* data = new TFile(\"data.root\",\"RECREATE\");\n",
    "TTree *t= new TTree(\"t\",\"a simple Tree\");\n",
    "t->Branch(\"NTicks\",&NTicks,\"NTicks/I\");\n",
    "t->Branch(\"ADC\",&tRecoWaveform_ADC,\"tRecoWaveform_ADC[NTicks]/F\");\n",
    "rTree->GetEntry(6);\n",
    "t->Fill();"
   ]
  },
  {
   "cell_type": "code",
   "execution_count": 11,
   "metadata": {},
   "outputs": [
    {
     "name": "stdout",
     "output_type": "stream",
     "text": [
      "======> EVENT:-1\n",
      " NTicks          = 2133760\n",
      " tRecoWaveform_ADC = 1, \n",
      "                  0, 1, 1, 0, 0, \n",
      "                  0, 1, 1, 2, 1, \n",
      "                  2, 1, 1, 1, 1, \n",
      "                  0, 1, -1, 1\n"
     ]
    }
   ],
   "source": [
    "t->Show()"
   ]
  },
  {
   "cell_type": "code",
   "execution_count": 12,
   "metadata": {},
   "outputs": [],
   "source": [
    "rTree->GetEntry(7);\n",
    "t->Fill();"
   ]
  },
  {
   "cell_type": "code",
   "execution_count": 13,
   "metadata": {},
   "outputs": [
    {
     "name": "stdout",
     "output_type": "stream",
     "text": [
      "======> EVENT:0\n",
      " NTicks          = 2133760\n",
      " tRecoWaveform_ADC = 1, \n",
      "                  0, 1, 1, 0, 0, \n",
      "                  0, 1, 1, 2, 1, \n",
      "                  2, 1, 1, 1, 1, \n",
      "                  0, 1, -1, 1\n"
     ]
    }
   ],
   "source": [
    "t->Show(0)"
   ]
  },
  {
   "cell_type": "code",
   "execution_count": 14,
   "metadata": {},
   "outputs": [
    {
     "name": "stdout",
     "output_type": "stream",
     "text": [
      "(int) 100\n"
     ]
    }
   ],
   "source": [
    "NEntries"
   ]
  },
  {
   "cell_type": "code",
   "execution_count": 15,
   "metadata": {},
   "outputs": [],
   "source": [
    " for(int i=0; i<NEntries; i++) //Event loop\n",
    "    {\n",
    "        rTree->GetEntry(i);\n",
    "        //we can also include some filters here in order to purify the data\n",
    "        t->Fill();\n",
    "    }"
   ]
  },
  {
   "cell_type": "code",
   "execution_count": 16,
   "metadata": {},
   "outputs": [
    {
     "name": "stdout",
     "output_type": "stream",
     "text": [
      "(int) 1599\n"
     ]
    }
   ],
   "source": [
    "t->Write()"
   ]
  },
  {
   "cell_type": "code",
   "execution_count": 17,
   "metadata": {},
   "outputs": [
    {
     "name": "stdout",
     "output_type": "stream",
     "text": [
      "******************************************************************************\n",
      "*Tree    :t         : a simple Tree                                          *\n",
      "*Entries :      102 : Total =       870586577 bytes  File  Size =  141830363 *\n",
      "*        :          : Tree compression factor =   6.14                       *\n",
      "******************************************************************************\n",
      "*Br    0 :NTicks    : NTicks/I                                               *\n",
      "*Entries :      102 : Total  Size=       1271 bytes  File Size  =        470 *\n",
      "*Baskets :        5 : Basket Size=      11263 bytes  Compression=   1.61     *\n",
      "*............................................................................*\n",
      "*Br    1 :ADC       : tRecoWaveform_ADC[NTicks]/F                            *\n",
      "*Entries :      102 : Total  Size=  870585024 bytes  File Size  =  141828294 *\n",
      "*Baskets :      102 : Basket Size=    8535120 bytes  Compression=   6.14     *\n",
      "*............................................................................*\n"
     ]
    }
   ],
   "source": [
    "t->Print()"
   ]
  },
  {
   "cell_type": "code",
   "execution_count": null,
   "metadata": {},
   "outputs": [],
   "source": []
  }
 ],
 "metadata": {
  "kernelspec": {
   "display_name": "ROOT C++",
   "language": "c++",
   "name": "root"
  },
  "language_info": {
   "codemirror_mode": "text/x-c++src",
   "file_extension": ".C",
   "mimetype": " text/x-c++src",
   "name": "c++"
  }
 },
 "nbformat": 4,
 "nbformat_minor": 2
}
